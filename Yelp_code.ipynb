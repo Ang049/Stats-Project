{
 "cells": [
  {
   "cell_type": "code",
   "execution_count": 108,
   "id": "5564b27e",
   "metadata": {},
   "outputs": [
    {
     "name": "stderr",
     "output_type": "stream",
     "text": [
      "[nltk_data] Downloading package stopwords to /Users/liang/nltk_data...\n",
      "[nltk_data]   Package stopwords is already up-to-date!\n"
     ]
    }
   ],
   "source": [
    "import numpy as np\n",
    "import pandas as pd\n",
    "import re\n",
    "import nltk\n",
    "nltk.download('stopwords')\n",
    "import pickle\n",
    "import matplotlib.pyplot as plt\n",
    "from nltk.corpus import stopwords\n",
    "from sklearn.feature_extraction.text import CountVectorizer\n",
    "from nltk.stem import WordNetLemmatizer\n",
    "from sklearn.model_selection import train_test_split\n",
    "from sklearn.linear_model import LogisticRegression\n",
    "from sklearn.metrics import accuracy_score\n",
    "from sklearn.metrics import confusion_matrix\n",
    "from sklearn.metrics import f1_score\n",
    "from sklearn.metrics import classification_report"
   ]
  },
  {
   "cell_type": "code",
   "execution_count": 84,
   "id": "75a05924",
   "metadata": {},
   "outputs": [
    {
     "data": {
      "text/html": [
       "<div>\n",
       "<style scoped>\n",
       "    .dataframe tbody tr th:only-of-type {\n",
       "        vertical-align: middle;\n",
       "    }\n",
       "\n",
       "    .dataframe tbody tr th {\n",
       "        vertical-align: top;\n",
       "    }\n",
       "\n",
       "    .dataframe thead th {\n",
       "        text-align: right;\n",
       "    }\n",
       "</style>\n",
       "<table border=\"1\" class=\"dataframe\">\n",
       "  <thead>\n",
       "    <tr style=\"text-align: right;\">\n",
       "      <th></th>\n",
       "      <th>Unnamed: 0</th>\n",
       "      <th>User_id</th>\n",
       "      <th>Bus_id</th>\n",
       "      <th>Star</th>\n",
       "      <th>Useful</th>\n",
       "      <th>Cool</th>\n",
       "      <th>Funny</th>\n",
       "      <th>Review</th>\n",
       "      <th>State</th>\n",
       "      <th>City</th>\n",
       "      <th>Bus_Ave_Star</th>\n",
       "      <th>User_Review_count</th>\n",
       "      <th>User_Useful_count</th>\n",
       "      <th>User_Funny_count</th>\n",
       "      <th>User_Cool_count</th>\n",
       "      <th>Elite</th>\n",
       "      <th>User_Fans</th>\n",
       "      <th>Users_Ave_Star</th>\n",
       "    </tr>\n",
       "  </thead>\n",
       "  <tbody>\n",
       "    <tr>\n",
       "      <th>0</th>\n",
       "      <td>0</td>\n",
       "      <td>4hBhtCSgoxkrFgHa4YAD-w</td>\n",
       "      <td>bbEXAEFr4RYHLlZ-HFssTA</td>\n",
       "      <td>5.0</td>\n",
       "      <td>0</td>\n",
       "      <td>0</td>\n",
       "      <td>0</td>\n",
       "      <td>Great burgers,fries and salad!  Burgers have a...</td>\n",
       "      <td>CA</td>\n",
       "      <td>Goleta</td>\n",
       "      <td>4.0</td>\n",
       "      <td>922</td>\n",
       "      <td>1687</td>\n",
       "      <td>694</td>\n",
       "      <td>1070</td>\n",
       "      <td>2015,2016,2017,2018,2019,20,20,2021</td>\n",
       "      <td>51</td>\n",
       "      <td>4.20</td>\n",
       "    </tr>\n",
       "    <tr>\n",
       "      <th>1</th>\n",
       "      <td>1</td>\n",
       "      <td>JYYYKt6TdVA4ng9lLcXt_g</td>\n",
       "      <td>SZU9c8V2GuREDN5KgyHFJw</td>\n",
       "      <td>5.0</td>\n",
       "      <td>0</td>\n",
       "      <td>0</td>\n",
       "      <td>0</td>\n",
       "      <td>We were a bit weary about trying the Shellfish...</td>\n",
       "      <td>CA</td>\n",
       "      <td>Santa Barbara</td>\n",
       "      <td>4.0</td>\n",
       "      <td>338</td>\n",
       "      <td>800</td>\n",
       "      <td>144</td>\n",
       "      <td>353</td>\n",
       "      <td>2012,2013,2014,2015,2016,2017,2018,2019,20,20,...</td>\n",
       "      <td>30</td>\n",
       "      <td>4.12</td>\n",
       "    </tr>\n",
       "    <tr>\n",
       "      <th>2</th>\n",
       "      <td>2</td>\n",
       "      <td>Uk3X2AypU8AqvcYEVf7s6Q</td>\n",
       "      <td>eL4lyE7LNoXEMvpcJ8WNVw</td>\n",
       "      <td>3.0</td>\n",
       "      <td>5</td>\n",
       "      <td>0</td>\n",
       "      <td>0</td>\n",
       "      <td>This was a tough one!   On the merits of the w...</td>\n",
       "      <td>CA</td>\n",
       "      <td>Santa Barbara</td>\n",
       "      <td>4.0</td>\n",
       "      <td>431</td>\n",
       "      <td>2126</td>\n",
       "      <td>1245</td>\n",
       "      <td>1476</td>\n",
       "      <td>2012,2013,2014,2015,2016,2017,2018,2019,20,20,...</td>\n",
       "      <td>76</td>\n",
       "      <td>4.05</td>\n",
       "    </tr>\n",
       "    <tr>\n",
       "      <th>3</th>\n",
       "      <td>3</td>\n",
       "      <td>LcqNuhqaYt5ekKzaRirmIg</td>\n",
       "      <td>SZU9c8V2GuREDN5KgyHFJw</td>\n",
       "      <td>5.0</td>\n",
       "      <td>2</td>\n",
       "      <td>1</td>\n",
       "      <td>0</td>\n",
       "      <td>I love trying fresh seafood on piers, wharfs a...</td>\n",
       "      <td>CA</td>\n",
       "      <td>Santa Barbara</td>\n",
       "      <td>4.0</td>\n",
       "      <td>258</td>\n",
       "      <td>452</td>\n",
       "      <td>125</td>\n",
       "      <td>183</td>\n",
       "      <td>2015,2016,2017</td>\n",
       "      <td>37</td>\n",
       "      <td>3.99</td>\n",
       "    </tr>\n",
       "    <tr>\n",
       "      <th>4</th>\n",
       "      <td>4</td>\n",
       "      <td>gasLVm0KRwrVhPGRcqATjw</td>\n",
       "      <td>CHh0ZFrQcsk4boOItr2Zuw</td>\n",
       "      <td>4.0</td>\n",
       "      <td>1</td>\n",
       "      <td>2</td>\n",
       "      <td>0</td>\n",
       "      <td>I stopped in because I was hungry for some sna...</td>\n",
       "      <td>CA</td>\n",
       "      <td>Carpinteria</td>\n",
       "      <td>3.0</td>\n",
       "      <td>1638</td>\n",
       "      <td>2658</td>\n",
       "      <td>933</td>\n",
       "      <td>2297</td>\n",
       "      <td>2014,2015,2016,2017,2018,2019,20,20,2021</td>\n",
       "      <td>105</td>\n",
       "      <td>3.79</td>\n",
       "    </tr>\n",
       "  </tbody>\n",
       "</table>\n",
       "</div>"
      ],
      "text/plain": [
       "   Unnamed: 0                 User_id                  Bus_id  Star  Useful  \\\n",
       "0           0  4hBhtCSgoxkrFgHa4YAD-w  bbEXAEFr4RYHLlZ-HFssTA   5.0       0   \n",
       "1           1  JYYYKt6TdVA4ng9lLcXt_g  SZU9c8V2GuREDN5KgyHFJw   5.0       0   \n",
       "2           2  Uk3X2AypU8AqvcYEVf7s6Q  eL4lyE7LNoXEMvpcJ8WNVw   3.0       5   \n",
       "3           3  LcqNuhqaYt5ekKzaRirmIg  SZU9c8V2GuREDN5KgyHFJw   5.0       2   \n",
       "4           4  gasLVm0KRwrVhPGRcqATjw  CHh0ZFrQcsk4boOItr2Zuw   4.0       1   \n",
       "\n",
       "   Cool  Funny                                             Review State  \\\n",
       "0     0      0  Great burgers,fries and salad!  Burgers have a...    CA   \n",
       "1     0      0  We were a bit weary about trying the Shellfish...    CA   \n",
       "2     0      0  This was a tough one!   On the merits of the w...    CA   \n",
       "3     1      0  I love trying fresh seafood on piers, wharfs a...    CA   \n",
       "4     2      0  I stopped in because I was hungry for some sna...    CA   \n",
       "\n",
       "            City  Bus_Ave_Star  User_Review_count  User_Useful_count  \\\n",
       "0         Goleta           4.0                922               1687   \n",
       "1  Santa Barbara           4.0                338                800   \n",
       "2  Santa Barbara           4.0                431               2126   \n",
       "3  Santa Barbara           4.0                258                452   \n",
       "4    Carpinteria           3.0               1638               2658   \n",
       "\n",
       "   User_Funny_count  User_Cool_count  \\\n",
       "0               694             1070   \n",
       "1               144              353   \n",
       "2              1245             1476   \n",
       "3               125              183   \n",
       "4               933             2297   \n",
       "\n",
       "                                               Elite  User_Fans  \\\n",
       "0                2015,2016,2017,2018,2019,20,20,2021         51   \n",
       "1  2012,2013,2014,2015,2016,2017,2018,2019,20,20,...         30   \n",
       "2  2012,2013,2014,2015,2016,2017,2018,2019,20,20,...         76   \n",
       "3                                     2015,2016,2017         37   \n",
       "4           2014,2015,2016,2017,2018,2019,20,20,2021        105   \n",
       "\n",
       "   Users_Ave_Star  \n",
       "0            4.20  \n",
       "1            4.12  \n",
       "2            4.05  \n",
       "3            3.99  \n",
       "4            3.79  "
      ]
     },
     "execution_count": 84,
     "metadata": {},
     "output_type": "execute_result"
    }
   ],
   "source": [
    "## Load the dataset\n",
    "DF_Final=pd.read_csv(\"Data_Final.csv\")\n",
    "DF_Final.head()"
   ]
  },
  {
   "cell_type": "code",
   "execution_count": 3,
   "id": "9925228a",
   "metadata": {},
   "outputs": [],
   "source": [
    "## Data prepossing\n",
    "documents = []\n",
    "\n",
    "X = DF_Final.Review\n",
    "stemmer = WordNetLemmatizer()\n",
    "for i in range(0, len(X)):\n",
    "    # Remove all the special characters, like parathesis\n",
    "    document = re.sub(r'\\W', ' ', str(X[i]))\n",
    "    # remove all single characters: like a, b, c, d\n",
    "    document = re.sub(r'\\s+[a-zA-Z]\\s+', ' ', document)\n",
    "    # Remove single characters from the start\n",
    "    document = re.sub(r'\\^[a-zA-Z]\\s+', ' ', document)\n",
    "    # Substituting multiple spaces with single space\n",
    "    document = re.sub(r'\\s+', ' ', document, flags=re.I)\n",
    "    # Removing prefixed 'b'\n",
    "    document = re.sub(r'^b\\s+', '', document)\n",
    "    # Converting to Lowercase\n",
    "    document = document.lower()\n",
    "    # Lemmatization\n",
    "    document = document.split()\n",
    "    document = [stemmer.lemmatize(word) for word in document]\n",
    "    document = ' '.join(document)\n",
    "    documents.append(document)"
   ]
  },
  {
   "cell_type": "code",
   "execution_count": 5,
   "id": "77241b62",
   "metadata": {},
   "outputs": [
    {
     "name": "stderr",
     "output_type": "stream",
     "text": [
      "/Users/liang/opt/anaconda3/lib/python3.9/site-packages/sklearn/feature_extraction/text.py:1322: UserWarning: Upper case characters found in vocabulary while 'lowercase' is True. These entries will not be matched with any documents\n",
      "  warnings.warn(\n"
     ]
    },
    {
     "data": {
      "text/plain": [
       "array([[0, 0, 0, ..., 0, 0, 0],\n",
       "       [0, 0, 0, ..., 0, 0, 0],\n",
       "       [0, 0, 0, ..., 0, 0, 0],\n",
       "       ...,\n",
       "       [0, 0, 0, ..., 0, 0, 0],\n",
       "       [0, 0, 0, ..., 0, 0, 0],\n",
       "       [0, 0, 0, ..., 0, 0, 0]])"
      ]
     },
     "execution_count": 5,
     "metadata": {},
     "output_type": "execute_result"
    }
   ],
   "source": [
    "#------------------------------------Sentiment Lexicon------------------------------------------\\\n",
    "f_n = open(\"negative-words.txt\", \"r\")\n",
    "Negative_words = f_n.readlines()\n",
    "f_p = open(\"positive-words.txt\", \"r\")\n",
    "Positive_words = f_p.readlines()\n",
    "Voca = [i.rstrip('\\n') for i in Positive_words] + [i.rstrip('\\n') for i in Negative_words]\n",
    "vectorizer = CountVectorizer(max_features=1500, min_df=0.1, max_df=0.7, stop_words=stopwords.words('english'),vocabulary=np.unique(Voca))\n",
    "X = vectorizer.fit_transform(documents).toarray()\n",
    "X"
   ]
  },
  {
   "cell_type": "code",
   "execution_count": 6,
   "id": "61167b78",
   "metadata": {},
   "outputs": [
    {
     "data": {
      "text/plain": [
       "(53845, 6816)"
      ]
     },
     "execution_count": 6,
     "metadata": {},
     "output_type": "execute_result"
    }
   ],
   "source": [
    "X.shape"
   ]
  },
  {
   "cell_type": "code",
   "execution_count": 85,
   "id": "62aa8cf6",
   "metadata": {},
   "outputs": [],
   "source": [
    "## Utilize the PCA to reduce the dimension\n",
    "from sklearn.decomposition import PCA\n",
    " \n",
    "pca = PCA(n_components=80)\n",
    "reduced_x = pca.fit_transform(X)"
   ]
  },
  {
   "cell_type": "code",
   "execution_count": 86,
   "id": "a5e50355",
   "metadata": {},
   "outputs": [],
   "source": [
    "def category(name):\n",
    "    number=pd.Series(documents).str.contains(name).sum()\n",
    "    return(number)\n",
    "def reviews(name):\n",
    "    number=sum([i.count(name)  for i in documents ])\n",
    "    return(number)"
   ]
  },
  {
   "cell_type": "code",
   "execution_count": 87,
   "id": "421c9143",
   "metadata": {},
   "outputs": [],
   "source": [
    "d1=pd.DataFrame.from_dict({\"entertainment\":category(\"entertainment\"),\n",
    "               \"beauty\":category(\"beauty\"),\n",
    "                \"home service\":category(\"home service\"),\n",
    "                \"automotive\":category(\"entertainment\"),\n",
    "                \"fitness\":category(\"entertainment\"),\n",
    "                \"heath/medical\":category(\"health\")+category(\"medical\"),\n",
    "                \"nightlife\":category(\"nightlife\"),\n",
    "                \"food\":category(\"food\"),\n",
    "                \"shopping\":category(\"shopping\"),\n",
    "                \"hotels/travel\":category(\"hotels\")+category(\"travel\"),\n",
    "                \"restaurant\":category(\"restaurant\")}, orient='index')\n",
    "d1.columns=[\"value\"]"
   ]
  },
  {
   "cell_type": "code",
   "execution_count": 88,
   "id": "de7cb37c",
   "metadata": {},
   "outputs": [
    {
     "data": {
      "text/html": [
       "<div>\n",
       "<style scoped>\n",
       "    .dataframe tbody tr th:only-of-type {\n",
       "        vertical-align: middle;\n",
       "    }\n",
       "\n",
       "    .dataframe tbody tr th {\n",
       "        vertical-align: top;\n",
       "    }\n",
       "\n",
       "    .dataframe thead th {\n",
       "        text-align: right;\n",
       "    }\n",
       "</style>\n",
       "<table border=\"1\" class=\"dataframe\">\n",
       "  <thead>\n",
       "    <tr style=\"text-align: right;\">\n",
       "      <th></th>\n",
       "      <th>value</th>\n",
       "      <th>percentage</th>\n",
       "    </tr>\n",
       "  </thead>\n",
       "  <tbody>\n",
       "    <tr>\n",
       "      <th>entertainment</th>\n",
       "      <td>143</td>\n",
       "      <td>0.45</td>\n",
       "    </tr>\n",
       "    <tr>\n",
       "      <th>beauty</th>\n",
       "      <td>265</td>\n",
       "      <td>0.83</td>\n",
       "    </tr>\n",
       "    <tr>\n",
       "      <th>home service</th>\n",
       "      <td>15</td>\n",
       "      <td>0.05</td>\n",
       "    </tr>\n",
       "    <tr>\n",
       "      <th>automotive</th>\n",
       "      <td>143</td>\n",
       "      <td>0.45</td>\n",
       "    </tr>\n",
       "    <tr>\n",
       "      <th>fitness</th>\n",
       "      <td>143</td>\n",
       "      <td>0.45</td>\n",
       "    </tr>\n",
       "    <tr>\n",
       "      <th>heath/medical</th>\n",
       "      <td>1408</td>\n",
       "      <td>4.43</td>\n",
       "    </tr>\n",
       "    <tr>\n",
       "      <th>nightlife</th>\n",
       "      <td>40</td>\n",
       "      <td>0.13</td>\n",
       "    </tr>\n",
       "    <tr>\n",
       "      <th>food</th>\n",
       "      <td>19337</td>\n",
       "      <td>60.78</td>\n",
       "    </tr>\n",
       "    <tr>\n",
       "      <th>shopping</th>\n",
       "      <td>1036</td>\n",
       "      <td>3.26</td>\n",
       "    </tr>\n",
       "    <tr>\n",
       "      <th>hotels/travel</th>\n",
       "      <td>773</td>\n",
       "      <td>2.43</td>\n",
       "    </tr>\n",
       "    <tr>\n",
       "      <th>restaurant</th>\n",
       "      <td>8510</td>\n",
       "      <td>26.75</td>\n",
       "    </tr>\n",
       "  </tbody>\n",
       "</table>\n",
       "</div>"
      ],
      "text/plain": [
       "               value  percentage\n",
       "entertainment    143        0.45\n",
       "beauty           265        0.83\n",
       "home service      15        0.05\n",
       "automotive       143        0.45\n",
       "fitness          143        0.45\n",
       "heath/medical   1408        4.43\n",
       "nightlife         40        0.13\n",
       "food           19337       60.78\n",
       "shopping        1036        3.26\n",
       "hotels/travel    773        2.43\n",
       "restaurant      8510       26.75"
      ]
     },
     "execution_count": 88,
     "metadata": {},
     "output_type": "execute_result"
    }
   ],
   "source": [
    "d1[\"percentage\"]=round(d1.value/sum(d1.value),4)*100\n",
    "d1"
   ]
  },
  {
   "cell_type": "code",
   "execution_count": 89,
   "id": "a93b17ae",
   "metadata": {},
   "outputs": [
    {
     "data": {
      "text/plain": [
       "Text(0.5, 1.0, 'Distribution of Business Categories')"
      ]
     },
     "execution_count": 89,
     "metadata": {},
     "output_type": "execute_result"
    },
    {
     "data": {
      "image/png": "[encoded data removed]",
      "text/plain": [
       "<Figure size 432x288 with 1 Axes>"
      ]
     },
     "metadata": {
      "needs_background": "light"
     },
     "output_type": "display_data"
    }
   ],
   "source": [
    "fig, ax = plt.subplots()\n",
    "bars = ax.barh(d1.index.tolist(), d1.percentage,color=\"orange\")\n",
    "ax.bar_label(bars)\n",
    "for bars in ax.containers:\n",
    "    ax.bar_label(bars)\n",
    "plt.xlabel(\"Percentage\")\n",
    "plt.title(\"Distribution of Business Categories\")"
   ]
  },
  {
   "cell_type": "code",
   "execution_count": 90,
   "id": "84df6caf",
   "metadata": {},
   "outputs": [
    {
     "data": {
      "text/html": [
       "<div>\n",
       "<style scoped>\n",
       "    .dataframe tbody tr th:only-of-type {\n",
       "        vertical-align: middle;\n",
       "    }\n",
       "\n",
       "    .dataframe tbody tr th {\n",
       "        vertical-align: top;\n",
       "    }\n",
       "\n",
       "    .dataframe thead th {\n",
       "        text-align: right;\n",
       "    }\n",
       "</style>\n",
       "<table border=\"1\" class=\"dataframe\">\n",
       "  <thead>\n",
       "    <tr style=\"text-align: right;\">\n",
       "      <th></th>\n",
       "      <th>value</th>\n",
       "      <th>percentage</th>\n",
       "    </tr>\n",
       "  </thead>\n",
       "  <tbody>\n",
       "    <tr>\n",
       "      <th>entertainment</th>\n",
       "      <td>153</td>\n",
       "      <td>0.32</td>\n",
       "    </tr>\n",
       "    <tr>\n",
       "      <th>beauty</th>\n",
       "      <td>288</td>\n",
       "      <td>0.60</td>\n",
       "    </tr>\n",
       "    <tr>\n",
       "      <th>home service</th>\n",
       "      <td>15</td>\n",
       "      <td>0.03</td>\n",
       "    </tr>\n",
       "    <tr>\n",
       "      <th>automotive</th>\n",
       "      <td>153</td>\n",
       "      <td>0.32</td>\n",
       "    </tr>\n",
       "    <tr>\n",
       "      <th>fitness</th>\n",
       "      <td>153</td>\n",
       "      <td>0.32</td>\n",
       "    </tr>\n",
       "    <tr>\n",
       "      <th>heath/medical</th>\n",
       "      <td>1718</td>\n",
       "      <td>3.60</td>\n",
       "    </tr>\n",
       "    <tr>\n",
       "      <th>nightlife</th>\n",
       "      <td>40</td>\n",
       "      <td>0.08</td>\n",
       "    </tr>\n",
       "    <tr>\n",
       "      <th>food</th>\n",
       "      <td>31338</td>\n",
       "      <td>65.61</td>\n",
       "    </tr>\n",
       "    <tr>\n",
       "      <th>shopping</th>\n",
       "      <td>1180</td>\n",
       "      <td>2.47</td>\n",
       "    </tr>\n",
       "    <tr>\n",
       "      <th>hotels/travel</th>\n",
       "      <td>874</td>\n",
       "      <td>1.83</td>\n",
       "    </tr>\n",
       "    <tr>\n",
       "      <th>restaurant</th>\n",
       "      <td>11849</td>\n",
       "      <td>24.81</td>\n",
       "    </tr>\n",
       "  </tbody>\n",
       "</table>\n",
       "</div>"
      ],
      "text/plain": [
       "               value  percentage\n",
       "entertainment    153        0.32\n",
       "beauty           288        0.60\n",
       "home service      15        0.03\n",
       "automotive       153        0.32\n",
       "fitness          153        0.32\n",
       "heath/medical   1718        3.60\n",
       "nightlife         40        0.08\n",
       "food           31338       65.61\n",
       "shopping        1180        2.47\n",
       "hotels/travel    874        1.83\n",
       "restaurant     11849       24.81"
      ]
     },
     "execution_count": 90,
     "metadata": {},
     "output_type": "execute_result"
    }
   ],
   "source": [
    "d2=pd.DataFrame.from_dict({\"entertainment\":reviews(\"entertainment\"),\n",
    "               \"beauty\":reviews(\"beauty\"),\n",
    "                \"home service\":reviews(\"home service\"),\n",
    "                \"automotive\":reviews(\"entertainment\"),\n",
    "                \"fitness\":reviews(\"entertainment\"),\n",
    "                \"heath/medical\":reviews(\"health\")+reviews(\"medical\"),\n",
    "                \"nightlife\":reviews(\"nightlife\"),\n",
    "                \"food\":reviews(\"food\"),\n",
    "                \"shopping\":reviews(\"shopping\"),\n",
    "                \"hotels/travel\":reviews(\"hotels\")+reviews(\"travel\"),\n",
    "                \"restaurant\":reviews(\"restaurant\")}, orient='index')\n",
    "d2.columns=[\"value\"]\n",
    "d2\n",
    "d2[\"percentage\"]=round(d2.value/sum(d2.value),4)*100\n",
    "d2"
   ]
  },
  {
   "cell_type": "code",
   "execution_count": 91,
   "id": "5ea4035d",
   "metadata": {},
   "outputs": [
    {
     "data": {
      "text/plain": [
       "Text(0.5, 1.0, 'Distribution of Reviews')"
      ]
     },
     "execution_count": 91,
     "metadata": {},
     "output_type": "execute_result"
    },
    {
     "data": {
      "image/png": "[encoded data removed]",
      "text/plain": [
       "<Figure size 432x288 with 1 Axes>"
      ]
     },
     "metadata": {
      "needs_background": "light"
     },
     "output_type": "display_data"
    }
   ],
   "source": [
    "fig, ax = plt.subplots()\n",
    "bars = ax.barh(d2.index.tolist(), d2.percentage,color=\"green\")\n",
    "ax.bar_label(bars)\n",
    "for bars in ax.containers:\n",
    "    ax.bar_label(bars)\n",
    "plt.xlabel(\"Percentage\")\n",
    "plt.title(\"Distribution of Reviews\")"
   ]
  },
  {
   "cell_type": "code",
   "execution_count": 92,
   "id": "06bd83af",
   "metadata": {},
   "outputs": [
    {
     "data": {
      "text/html": [
       "<div>\n",
       "<style scoped>\n",
       "    .dataframe tbody tr th:only-of-type {\n",
       "        vertical-align: middle;\n",
       "    }\n",
       "\n",
       "    .dataframe tbody tr th {\n",
       "        vertical-align: top;\n",
       "    }\n",
       "\n",
       "    .dataframe thead th {\n",
       "        text-align: right;\n",
       "    }\n",
       "</style>\n",
       "<table border=\"1\" class=\"dataframe\">\n",
       "  <thead>\n",
       "    <tr style=\"text-align: right;\">\n",
       "      <th></th>\n",
       "      <th>Unnamed: 0</th>\n",
       "      <th>User_id</th>\n",
       "      <th>Bus_id</th>\n",
       "      <th>Star</th>\n",
       "      <th>Useful</th>\n",
       "      <th>Cool</th>\n",
       "      <th>Funny</th>\n",
       "      <th>Review</th>\n",
       "      <th>State</th>\n",
       "      <th>City</th>\n",
       "      <th>Bus_Ave_Star</th>\n",
       "      <th>User_Review_count</th>\n",
       "      <th>User_Useful_count</th>\n",
       "      <th>User_Funny_count</th>\n",
       "      <th>User_Cool_count</th>\n",
       "      <th>Elite</th>\n",
       "      <th>User_Fans</th>\n",
       "      <th>Users_Ave_Star</th>\n",
       "      <th>Rating</th>\n",
       "    </tr>\n",
       "  </thead>\n",
       "  <tbody>\n",
       "    <tr>\n",
       "      <th>0</th>\n",
       "      <td>0</td>\n",
       "      <td>4hBhtCSgoxkrFgHa4YAD-w</td>\n",
       "      <td>bbEXAEFr4RYHLlZ-HFssTA</td>\n",
       "      <td>5.0</td>\n",
       "      <td>0</td>\n",
       "      <td>0</td>\n",
       "      <td>0</td>\n",
       "      <td>Great burgers,fries and salad!  Burgers have a...</td>\n",
       "      <td>CA</td>\n",
       "      <td>Goleta</td>\n",
       "      <td>4.0</td>\n",
       "      <td>922</td>\n",
       "      <td>1687</td>\n",
       "      <td>694</td>\n",
       "      <td>1070</td>\n",
       "      <td>2015,2016,2017,2018,2019,20,20,2021</td>\n",
       "      <td>51</td>\n",
       "      <td>4.20</td>\n",
       "      <td>1</td>\n",
       "    </tr>\n",
       "    <tr>\n",
       "      <th>1</th>\n",
       "      <td>1</td>\n",
       "      <td>JYYYKt6TdVA4ng9lLcXt_g</td>\n",
       "      <td>SZU9c8V2GuREDN5KgyHFJw</td>\n",
       "      <td>5.0</td>\n",
       "      <td>0</td>\n",
       "      <td>0</td>\n",
       "      <td>0</td>\n",
       "      <td>We were a bit weary about trying the Shellfish...</td>\n",
       "      <td>CA</td>\n",
       "      <td>Santa Barbara</td>\n",
       "      <td>4.0</td>\n",
       "      <td>338</td>\n",
       "      <td>800</td>\n",
       "      <td>144</td>\n",
       "      <td>353</td>\n",
       "      <td>2012,2013,2014,2015,2016,2017,2018,2019,20,20,...</td>\n",
       "      <td>30</td>\n",
       "      <td>4.12</td>\n",
       "      <td>1</td>\n",
       "    </tr>\n",
       "    <tr>\n",
       "      <th>2</th>\n",
       "      <td>2</td>\n",
       "      <td>Uk3X2AypU8AqvcYEVf7s6Q</td>\n",
       "      <td>eL4lyE7LNoXEMvpcJ8WNVw</td>\n",
       "      <td>3.0</td>\n",
       "      <td>5</td>\n",
       "      <td>0</td>\n",
       "      <td>0</td>\n",
       "      <td>This was a tough one!   On the merits of the w...</td>\n",
       "      <td>CA</td>\n",
       "      <td>Santa Barbara</td>\n",
       "      <td>4.0</td>\n",
       "      <td>431</td>\n",
       "      <td>2126</td>\n",
       "      <td>1245</td>\n",
       "      <td>1476</td>\n",
       "      <td>2012,2013,2014,2015,2016,2017,2018,2019,20,20,...</td>\n",
       "      <td>76</td>\n",
       "      <td>4.05</td>\n",
       "      <td>0</td>\n",
       "    </tr>\n",
       "    <tr>\n",
       "      <th>3</th>\n",
       "      <td>3</td>\n",
       "      <td>LcqNuhqaYt5ekKzaRirmIg</td>\n",
       "      <td>SZU9c8V2GuREDN5KgyHFJw</td>\n",
       "      <td>5.0</td>\n",
       "      <td>2</td>\n",
       "      <td>1</td>\n",
       "      <td>0</td>\n",
       "      <td>I love trying fresh seafood on piers, wharfs a...</td>\n",
       "      <td>CA</td>\n",
       "      <td>Santa Barbara</td>\n",
       "      <td>4.0</td>\n",
       "      <td>258</td>\n",
       "      <td>452</td>\n",
       "      <td>125</td>\n",
       "      <td>183</td>\n",
       "      <td>2015,2016,2017</td>\n",
       "      <td>37</td>\n",
       "      <td>3.99</td>\n",
       "      <td>1</td>\n",
       "    </tr>\n",
       "    <tr>\n",
       "      <th>4</th>\n",
       "      <td>4</td>\n",
       "      <td>gasLVm0KRwrVhPGRcqATjw</td>\n",
       "      <td>CHh0ZFrQcsk4boOItr2Zuw</td>\n",
       "      <td>4.0</td>\n",
       "      <td>1</td>\n",
       "      <td>2</td>\n",
       "      <td>0</td>\n",
       "      <td>I stopped in because I was hungry for some sna...</td>\n",
       "      <td>CA</td>\n",
       "      <td>Carpinteria</td>\n",
       "      <td>3.0</td>\n",
       "      <td>1638</td>\n",
       "      <td>2658</td>\n",
       "      <td>933</td>\n",
       "      <td>2297</td>\n",
       "      <td>2014,2015,2016,2017,2018,2019,20,20,2021</td>\n",
       "      <td>105</td>\n",
       "      <td>3.79</td>\n",
       "      <td>1</td>\n",
       "    </tr>\n",
       "    <tr>\n",
       "      <th>...</th>\n",
       "      <td>...</td>\n",
       "      <td>...</td>\n",
       "      <td>...</td>\n",
       "      <td>...</td>\n",
       "      <td>...</td>\n",
       "      <td>...</td>\n",
       "      <td>...</td>\n",
       "      <td>...</td>\n",
       "      <td>...</td>\n",
       "      <td>...</td>\n",
       "      <td>...</td>\n",
       "      <td>...</td>\n",
       "      <td>...</td>\n",
       "      <td>...</td>\n",
       "      <td>...</td>\n",
       "      <td>...</td>\n",
       "      <td>...</td>\n",
       "      <td>...</td>\n",
       "      <td>...</td>\n",
       "    </tr>\n",
       "    <tr>\n",
       "      <th>53840</th>\n",
       "      <td>53840</td>\n",
       "      <td>wuxZSSVXwKzN3NPcdSljUA</td>\n",
       "      <td>q0DRuEAxE5i57xNSTrDP4Q</td>\n",
       "      <td>3.0</td>\n",
       "      <td>2</td>\n",
       "      <td>0</td>\n",
       "      <td>2</td>\n",
       "      <td>So let me begin by stating that the owner of N...</td>\n",
       "      <td>CA</td>\n",
       "      <td>Isla Vista</td>\n",
       "      <td>3.5</td>\n",
       "      <td>227</td>\n",
       "      <td>360</td>\n",
       "      <td>153</td>\n",
       "      <td>133</td>\n",
       "      <td>2014,2015,2016,2017,2018,2019,20,20,2021</td>\n",
       "      <td>11</td>\n",
       "      <td>3.41</td>\n",
       "      <td>0</td>\n",
       "    </tr>\n",
       "    <tr>\n",
       "      <th>53841</th>\n",
       "      <td>53841</td>\n",
       "      <td>ZDCWEctaQHfJQT1sH_rMmA</td>\n",
       "      <td>rZQqiElaeM7JO2rQAXHK2w</td>\n",
       "      <td>5.0</td>\n",
       "      <td>3</td>\n",
       "      <td>2</td>\n",
       "      <td>2</td>\n",
       "      <td>We've used Jerry The Plumber for water heater ...</td>\n",
       "      <td>CA</td>\n",
       "      <td>Santa Barbara</td>\n",
       "      <td>4.5</td>\n",
       "      <td>691</td>\n",
       "      <td>2353</td>\n",
       "      <td>427</td>\n",
       "      <td>1361</td>\n",
       "      <td>2016,2017,2018,2019,20,20,2021</td>\n",
       "      <td>23</td>\n",
       "      <td>4.74</td>\n",
       "      <td>1</td>\n",
       "    </tr>\n",
       "    <tr>\n",
       "      <th>53842</th>\n",
       "      <td>53842</td>\n",
       "      <td>ZDCWEctaQHfJQT1sH_rMmA</td>\n",
       "      <td>EA4v61tJCHg8xhk7bqn8Yw</td>\n",
       "      <td>5.0</td>\n",
       "      <td>2</td>\n",
       "      <td>2</td>\n",
       "      <td>0</td>\n",
       "      <td>Wow, talk about some of the best deals I've ev...</td>\n",
       "      <td>CA</td>\n",
       "      <td>Santa Barbara</td>\n",
       "      <td>4.5</td>\n",
       "      <td>691</td>\n",
       "      <td>2353</td>\n",
       "      <td>427</td>\n",
       "      <td>1361</td>\n",
       "      <td>2016,2017,2018,2019,20,20,2021</td>\n",
       "      <td>23</td>\n",
       "      <td>4.74</td>\n",
       "      <td>1</td>\n",
       "    </tr>\n",
       "    <tr>\n",
       "      <th>53843</th>\n",
       "      <td>53843</td>\n",
       "      <td>SSlW0LTQwER5obHjTW0ZIg</td>\n",
       "      <td>3tvi-OJ_-iK1ecjzSaH-oA</td>\n",
       "      <td>5.0</td>\n",
       "      <td>4</td>\n",
       "      <td>3</td>\n",
       "      <td>2</td>\n",
       "      <td>My Husband and I decided to stop into Hook and...</td>\n",
       "      <td>CA</td>\n",
       "      <td>Santa Barbara</td>\n",
       "      <td>4.5</td>\n",
       "      <td>163</td>\n",
       "      <td>391</td>\n",
       "      <td>155</td>\n",
       "      <td>286</td>\n",
       "      <td>2015,2016,2017,2018,2019,20,20,2021</td>\n",
       "      <td>20</td>\n",
       "      <td>4.36</td>\n",
       "      <td>1</td>\n",
       "    </tr>\n",
       "    <tr>\n",
       "      <th>53844</th>\n",
       "      <td>53844</td>\n",
       "      <td>nxpp3uivlQw8x-vfTw0Gyg</td>\n",
       "      <td>ak-RiYgUZzM_90c8ONWFzw</td>\n",
       "      <td>5.0</td>\n",
       "      <td>2</td>\n",
       "      <td>2</td>\n",
       "      <td>1</td>\n",
       "      <td>We have asked Burgundy Blue to capture over 5 ...</td>\n",
       "      <td>CA</td>\n",
       "      <td>Santa Barbara</td>\n",
       "      <td>5.0</td>\n",
       "      <td>248</td>\n",
       "      <td>358</td>\n",
       "      <td>110</td>\n",
       "      <td>158</td>\n",
       "      <td>2018,2019,20,20,2021</td>\n",
       "      <td>11</td>\n",
       "      <td>3.94</td>\n",
       "      <td>1</td>\n",
       "    </tr>\n",
       "  </tbody>\n",
       "</table>\n",
       "<p>53845 rows × 19 columns</p>\n",
       "</div>"
      ],
      "text/plain": [
       "       Unnamed: 0                 User_id                  Bus_id  Star  \\\n",
       "0               0  4hBhtCSgoxkrFgHa4YAD-w  bbEXAEFr4RYHLlZ-HFssTA   5.0   \n",
       "1               1  JYYYKt6TdVA4ng9lLcXt_g  SZU9c8V2GuREDN5KgyHFJw   5.0   \n",
       "2               2  Uk3X2AypU8AqvcYEVf7s6Q  eL4lyE7LNoXEMvpcJ8WNVw   3.0   \n",
       "3               3  LcqNuhqaYt5ekKzaRirmIg  SZU9c8V2GuREDN5KgyHFJw   5.0   \n",
       "4               4  gasLVm0KRwrVhPGRcqATjw  CHh0ZFrQcsk4boOItr2Zuw   4.0   \n",
       "...           ...                     ...                     ...   ...   \n",
       "53840       53840  wuxZSSVXwKzN3NPcdSljUA  q0DRuEAxE5i57xNSTrDP4Q   3.0   \n",
       "53841       53841  ZDCWEctaQHfJQT1sH_rMmA  rZQqiElaeM7JO2rQAXHK2w   5.0   \n",
       "53842       53842  ZDCWEctaQHfJQT1sH_rMmA  EA4v61tJCHg8xhk7bqn8Yw   5.0   \n",
       "53843       53843  SSlW0LTQwER5obHjTW0ZIg  3tvi-OJ_-iK1ecjzSaH-oA   5.0   \n",
       "53844       53844  nxpp3uivlQw8x-vfTw0Gyg  ak-RiYgUZzM_90c8ONWFzw   5.0   \n",
       "\n",
       "       Useful  Cool  Funny                                             Review  \\\n",
       "0           0     0      0  Great burgers,fries and salad!  Burgers have a...   \n",
       "1           0     0      0  We were a bit weary about trying the Shellfish...   \n",
       "2           5     0      0  This was a tough one!   On the merits of the w...   \n",
       "3           2     1      0  I love trying fresh seafood on piers, wharfs a...   \n",
       "4           1     2      0  I stopped in because I was hungry for some sna...   \n",
       "...       ...   ...    ...                                                ...   \n",
       "53840       2     0      2  So let me begin by stating that the owner of N...   \n",
       "53841       3     2      2  We've used Jerry The Plumber for water heater ...   \n",
       "53842       2     2      0  Wow, talk about some of the best deals I've ev...   \n",
       "53843       4     3      2  My Husband and I decided to stop into Hook and...   \n",
       "53844       2     2      1  We have asked Burgundy Blue to capture over 5 ...   \n",
       "\n",
       "      State           City  Bus_Ave_Star  User_Review_count  \\\n",
       "0        CA         Goleta           4.0                922   \n",
       "1        CA  Santa Barbara           4.0                338   \n",
       "2        CA  Santa Barbara           4.0                431   \n",
       "3        CA  Santa Barbara           4.0                258   \n",
       "4        CA    Carpinteria           3.0               1638   \n",
       "...     ...            ...           ...                ...   \n",
       "53840    CA     Isla Vista           3.5                227   \n",
       "53841    CA  Santa Barbara           4.5                691   \n",
       "53842    CA  Santa Barbara           4.5                691   \n",
       "53843    CA  Santa Barbara           4.5                163   \n",
       "53844    CA  Santa Barbara           5.0                248   \n",
       "\n",
       "       User_Useful_count  User_Funny_count  User_Cool_count  \\\n",
       "0                   1687               694             1070   \n",
       "1                    800               144              353   \n",
       "2                   2126              1245             1476   \n",
       "3                    452               125              183   \n",
       "4                   2658               933             2297   \n",
       "...                  ...               ...              ...   \n",
       "53840                360               153              133   \n",
       "53841               2353               427             1361   \n",
       "53842               2353               427             1361   \n",
       "53843                391               155              286   \n",
       "53844                358               110              158   \n",
       "\n",
       "                                                   Elite  User_Fans  \\\n",
       "0                    2015,2016,2017,2018,2019,20,20,2021         51   \n",
       "1      2012,2013,2014,2015,2016,2017,2018,2019,20,20,...         30   \n",
       "2      2012,2013,2014,2015,2016,2017,2018,2019,20,20,...         76   \n",
       "3                                         2015,2016,2017         37   \n",
       "4               2014,2015,2016,2017,2018,2019,20,20,2021        105   \n",
       "...                                                  ...        ...   \n",
       "53840           2014,2015,2016,2017,2018,2019,20,20,2021         11   \n",
       "53841                     2016,2017,2018,2019,20,20,2021         23   \n",
       "53842                     2016,2017,2018,2019,20,20,2021         23   \n",
       "53843                2015,2016,2017,2018,2019,20,20,2021         20   \n",
       "53844                               2018,2019,20,20,2021         11   \n",
       "\n",
       "       Users_Ave_Star  Rating  \n",
       "0                4.20       1  \n",
       "1                4.12       1  \n",
       "2                4.05       0  \n",
       "3                3.99       1  \n",
       "4                3.79       1  \n",
       "...               ...     ...  \n",
       "53840            3.41       0  \n",
       "53841            4.74       1  \n",
       "53842            4.74       1  \n",
       "53843            4.36       1  \n",
       "53844            3.94       1  \n",
       "\n",
       "[53845 rows x 19 columns]"
      ]
     },
     "execution_count": 92,
     "metadata": {},
     "output_type": "execute_result"
    }
   ],
   "source": [
    "## generate the y variable(Rating)\n",
    "list_tep = [int(i) for i in (DF_Final['Star']>=4)]\n",
    "DF_Final['Rating'] = list_tep\n",
    "DF_Final"
   ]
  },
  {
   "cell_type": "code",
   "execution_count": 93,
   "id": "989c3416",
   "metadata": {},
   "outputs": [
    {
     "data": {
      "text/plain": [
       "0        1\n",
       "1        1\n",
       "2        0\n",
       "3        1\n",
       "4        1\n",
       "        ..\n",
       "53840    0\n",
       "53841    1\n",
       "53842    1\n",
       "53843    1\n",
       "53844    1\n",
       "Name: Rating, Length: 53845, dtype: int64"
      ]
     },
     "execution_count": 93,
     "metadata": {},
     "output_type": "execute_result"
    }
   ],
   "source": [
    "y = DF_Final[\"Rating\"]\n",
    "y"
   ]
  },
  {
   "cell_type": "code",
   "execution_count": 94,
   "id": "f046374a",
   "metadata": {},
   "outputs": [],
   "source": [
    "## set the training data and testing data\n",
    "X_train, X_test, y_train, y_test = train_test_split(reduced_x, y, test_size=0.2)"
   ]
  },
  {
   "cell_type": "code",
   "execution_count": 95,
   "id": "856eb057",
   "metadata": {},
   "outputs": [
    {
     "data": {
      "text/plain": [
       "LogisticRegression(random_state=0, solver='liblinear')"
      ]
     },
     "execution_count": 95,
     "metadata": {},
     "output_type": "execute_result"
    }
   ],
   "source": [
    "## Five supervised learning\n",
    "# 1. logistic regression\n",
    "model1 = LogisticRegression(solver='liblinear', random_state=0)\n",
    "model1.fit(X_train, y_train)"
   ]
  },
  {
   "cell_type": "code",
   "execution_count": 96,
   "id": "92c2e1a3",
   "metadata": {},
   "outputs": [
    {
     "data": {
      "text/plain": [
       "array([[ 0.03310523,  0.59260193, -0.78682124,  0.28317334,  1.67999206,\n",
       "        -0.93282288, -0.03328493, -0.25870671, -0.1192343 , -0.56806957,\n",
       "         0.55594955, -0.1249297 ,  0.77118346, -0.22328707, -1.03408869,\n",
       "        -0.16398386,  0.9724541 , -0.72093692,  0.83134857,  0.59552627,\n",
       "         0.22168434,  0.58570809,  0.49728504, -0.40505429, -0.31531586,\n",
       "        -0.83614135, -0.30505401,  0.31075219,  0.02773999,  0.16515671,\n",
       "        -0.45204012,  0.4969056 ,  0.11893263, -0.10425228,  0.31166416,\n",
       "         0.47972876, -0.0872047 , -0.82291138,  0.05243697, -0.0838974 ,\n",
       "         0.88211732,  0.36657168, -0.35642644,  0.50999251,  0.13172753,\n",
       "         0.19775215, -0.06331573, -0.19536328,  0.28421805, -1.42081573,\n",
       "         0.48275765,  0.15350607,  0.28114175, -1.52539646,  0.52071796,\n",
       "        -0.01331703, -0.2006523 ,  0.20691976,  0.23973488,  0.35750089,\n",
       "        -0.73158131,  0.30065194,  0.49224317,  0.10357896, -0.26453327,\n",
       "         0.56341057,  0.13694191, -0.57261324,  0.45749069,  0.0697632 ,\n",
       "         0.35527441,  0.77915835, -0.99980405,  1.75068367,  0.38917802,\n",
       "         1.41465907, -0.57824107,  0.74153655,  0.36618961, -0.84234   ]])"
      ]
     },
     "execution_count": 96,
     "metadata": {},
     "output_type": "execute_result"
    }
   ],
   "source": [
    "# find the intercept and coeficient of the logistic model\n",
    "model1.intercept_\n",
    "model1.coef_"
   ]
  },
  {
   "cell_type": "code",
   "execution_count": 97,
   "id": "3fc34821",
   "metadata": {},
   "outputs": [
    {
     "data": {
      "text/plain": [
       "array([[0.17988997, 0.82011003],\n",
       "       [0.01296741, 0.98703259],\n",
       "       [0.21136248, 0.78863752],\n",
       "       ...,\n",
       "       [0.37294823, 0.62705177],\n",
       "       [0.03263008, 0.96736992],\n",
       "       [0.25837808, 0.74162192]])"
      ]
     },
     "execution_count": 97,
     "metadata": {},
     "output_type": "execute_result"
    }
   ],
   "source": [
    "# The first column is the probability of the predicted output being zero, that is 1 - 𝑝(𝑥). The second column is the probability that the output is one, or 𝑝(𝑥).\n",
    "model1.predict_proba(reduced_x)"
   ]
  },
  {
   "cell_type": "code",
   "execution_count": 106,
   "id": "a76771bc",
   "metadata": {},
   "outputs": [],
   "source": [
    "# Actual prediction\n",
    "y_predict = model1.predict(X_test)"
   ]
  },
  {
   "cell_type": "code",
   "execution_count": 107,
   "id": "115a75d3",
   "metadata": {},
   "outputs": [
    {
     "data": {
      "text/plain": [
       "0.8017457516946792"
      ]
     },
     "execution_count": 107,
     "metadata": {},
     "output_type": "execute_result"
    }
   ],
   "source": [
    "# Find the accuracy of the lg\n",
    "lg1 = model1.score(X_test, y_test)\n",
    "lg1"
   ]
  },
  {
   "cell_type": "code",
   "execution_count": 99,
   "id": "28ce545d",
   "metadata": {},
   "outputs": [
    {
     "name": "stdout",
     "output_type": "stream",
     "text": [
      "mean_absolute_error: 0.19825424830532082\n",
      "mean_squared_error: 0.19825424830532082\n",
      "rmse: 0.44525750785957646\n",
      "r2 score: -0.03425851452795836\n"
     ]
    }
   ],
   "source": [
    "## MSE 、 RMSE、 MAE、r2\n",
    "from math import sqrt\n",
    "from sklearn.metrics import mean_absolute_error\n",
    "from sklearn.metrics import mean_squared_error\n",
    "from sklearn.metrics import r2_score\n",
    "print(\"mean_absolute_error:\", mean_absolute_error(y_test, y_predict))\n",
    "print(\"mean_squared_error:\", mean_squared_error(y_test, y_predict))\n",
    "print(\"rmse:\", sqrt(mean_squared_error(y_test, y_predict)))\n",
    "print(\"r2 score:\", r2_score(y_test, y_predict))"
   ]
  },
  {
   "cell_type": "code",
   "execution_count": 101,
   "id": "dacc25bb",
   "metadata": {},
   "outputs": [
    {
     "data": {
      "image/png": "[encoded data removed]",
      "text/plain": [
       "<Figure size 576x576 with 1 Axes>"
      ]
     },
     "metadata": {
      "needs_background": "light"
     },
     "output_type": "display_data"
    }
   ],
   "source": [
    "# Generate the confusion matrix\n",
    "cm = confusion_matrix(y, model1.predict(reduced_x))\n",
    "\n",
    "fig, ax = plt.subplots(figsize=(8, 8))\n",
    "ax.imshow(cm)\n",
    "ax.grid(False)\n",
    "ax.xaxis.set(ticks=(0, 1), ticklabels=('Predicted 0s', 'Predicted 1s'))\n",
    "ax.yaxis.set(ticks=(0, 1), ticklabels=('Actual 0s', 'Actual 1s'))\n",
    "ax.set_ylim(1.5, -0.5)\n",
    "for i in range(2):\n",
    "    for j in range(2):\n",
    "        ax.text(j, i, cm[i, j], ha='center', va='center', color='red')\n",
    "plt.show()"
   ]
  },
  {
   "cell_type": "code",
   "execution_count": 102,
   "id": "27e9eb1b",
   "metadata": {},
   "outputs": [
    {
     "data": {
      "image/png": "[encoded data removed]",
      "text/plain": [
       "<Figure size 432x288 with 1 Axes>"
      ]
     },
     "metadata": {
      "needs_background": "light"
     },
     "output_type": "display_data"
    }
   ],
   "source": [
    "# generate the ROC curve\n",
    "from sklearn.metrics import roc_auc_score\n",
    "from sklearn.metrics import roc_curve\n",
    "logit_roc_auc = roc_auc_score(y_test, model1.predict(X_test))\n",
    "fpr, tpr, thresholds = roc_curve(y_test, model1.predict_proba(X_test)[:,1])\n",
    "plt.figure()\n",
    "plt.plot(fpr, tpr, label='Logistic Regression (area = %0.2f)' % logit_roc_auc)\n",
    "plt.plot([0, 1], [0, 1],'r--')\n",
    "plt.xlim([0.0, 1.0])\n",
    "plt.ylim([0.0, 1.05])\n",
    "plt.xlabel('False Positive Rate')\n",
    "plt.ylabel('True Positive Rate')\n",
    "plt.title('Receiver operating characteristic')\n",
    "plt.legend(loc=\"lower right\")\n",
    "plt.savefig('Log_ROC')\n",
    "plt.show()"
   ]
  },
  {
   "cell_type": "code",
   "execution_count": 103,
   "id": "4e915db7",
   "metadata": {},
   "outputs": [
    {
     "name": "stderr",
     "output_type": "stream",
     "text": [
      "/Users/liang/opt/anaconda3/lib/python3.9/site-packages/sklearn/svm/_base.py:1206: ConvergenceWarning: Liblinear failed to converge, increase the number of iterations.\n",
      "  warnings.warn(\n"
     ]
    }
   ],
   "source": [
    "## 2. Linear support vector classification\n",
    "from sklearn.svm import LinearSVC\n",
    "LinearSVM = LinearSVC().fit(X_train, y_train)\n",
    "\n",
    "# Predict y data with classifier: \n",
    "y_pred = LinearSVM.predict(X_test)\n"
   ]
  },
  {
   "cell_type": "code",
   "execution_count": 104,
   "id": "b1ca711a",
   "metadata": {},
   "outputs": [
    {
     "data": {
      "image/png": "[encoded data removed]",
      "text/plain": [
       "<Figure size 576x576 with 1 Axes>"
      ]
     },
     "metadata": {
      "needs_background": "light"
     },
     "output_type": "display_data"
    }
   ],
   "source": [
    "## generate the confusion matrix\n",
    "cm = confusion_matrix(y, LinearSVM.predict(reduced_x))\n",
    "\n",
    "fig, ax = plt.subplots(figsize=(8, 8))\n",
    "ax.imshow(cm)\n",
    "ax.grid(False)\n",
    "ax.xaxis.set(ticks=(0, 1), ticklabels=('Predicted 0s', 'Predicted 1s'))\n",
    "ax.yaxis.set(ticks=(0, 1), ticklabels=('Actual 0s', 'Actual 1s'))\n",
    "ax.set_ylim(1.5, -0.5)\n",
    "for i in range(2):\n",
    "    for j in range(2):\n",
    "        ax.text(j, i, cm[i, j], ha='center', va='center', color='red')\n",
    "plt.show()"
   ]
  },
  {
   "cell_type": "code",
   "execution_count": 34,
   "id": "4fd478d1",
   "metadata": {},
   "outputs": [
    {
     "data": {
      "text/plain": [
       "0.8032314978178103"
      ]
     },
     "execution_count": 34,
     "metadata": {},
     "output_type": "execute_result"
    }
   ],
   "source": [
    "# Find the accuracy of the model\n",
    "svm1 = LinearSVM.score(X_test, y_test)\n",
    "svm1"
   ]
  },
  {
   "cell_type": "code",
   "execution_count": 35,
   "id": "896d6b62",
   "metadata": {},
   "outputs": [],
   "source": [
    "# Actual prediction\n",
    "y_predict = LinearSVM.predict(X_test)"
   ]
  },
  {
   "cell_type": "code",
   "execution_count": 36,
   "id": "6a102ca7",
   "metadata": {},
   "outputs": [
    {
     "name": "stdout",
     "output_type": "stream",
     "text": [
      "mean_absolute_error: 0.1967685021821896\n",
      "mean_squared_error: 0.1967685021821896\n",
      "rmse: 0.44358595805344153\n",
      "r2 score: -0.03777514250613412\n"
     ]
    }
   ],
   "source": [
    "## MSE 、 RMSE、 MAE、r2\n",
    "from math import sqrt\n",
    "from sklearn.metrics import mean_absolute_error\n",
    "from sklearn.metrics import mean_squared_error\n",
    "from sklearn.metrics import r2_score\n",
    "print(\"mean_absolute_error:\", mean_absolute_error(y_test, y_predict))\n",
    "print(\"mean_squared_error:\", mean_squared_error(y_test, y_predict))\n",
    "print(\"rmse:\", sqrt(mean_squared_error(y_test, y_predict)))\n",
    "print(\"r2 score:\", r2_score(y_test, y_predict))"
   ]
  },
  {
   "cell_type": "code",
   "execution_count": 37,
   "id": "077e3427",
   "metadata": {},
   "outputs": [],
   "source": [
    "## 3. Navie Bayes classification\n",
    "from sklearn.naive_bayes import GaussianNB\n",
    "model = GaussianNB()\n",
    "model.fit(X_train, y_train);"
   ]
  },
  {
   "cell_type": "code",
   "execution_count": 39,
   "id": "2c70d742",
   "metadata": {},
   "outputs": [
    {
     "data": {
      "image/png": "[encoded data removed]",
      "text/plain": [
       "<Figure size 576x576 with 1 Axes>"
      ]
     },
     "metadata": {
      "needs_background": "light"
     },
     "output_type": "display_data"
    }
   ],
   "source": [
    "## generate the confusion matrix\n",
    "cm = confusion_matrix(y, model.predict(reduced_x))\n",
    "\n",
    "fig, ax = plt.subplots(figsize=(8, 8))\n",
    "ax.imshow(cm)\n",
    "ax.grid(False)\n",
    "ax.xaxis.set(ticks=(0, 1), ticklabels=('Predicted 0s', 'Predicted 1s'))\n",
    "ax.yaxis.set(ticks=(0, 1), ticklabels=('Actual 0s', 'Actual 1s'))\n",
    "ax.set_ylim(1.5, -0.5)\n",
    "for i in range(2):\n",
    "    for j in range(2):\n",
    "        ax.text(j, i, cm[i, j], ha='center', va='center', color='red')\n",
    "plt.show()"
   ]
  },
  {
   "cell_type": "code",
   "execution_count": 40,
   "id": "f368d605",
   "metadata": {},
   "outputs": [
    {
     "data": {
      "text/plain": [
       "0.7228154889033337"
      ]
     },
     "execution_count": 40,
     "metadata": {},
     "output_type": "execute_result"
    }
   ],
   "source": [
    "# Find the accuracy of the model\n",
    "nb1 = model.score(X_test, y_test)\n",
    "nb1"
   ]
  },
  {
   "cell_type": "code",
   "execution_count": 41,
   "id": "1b5b7d78",
   "metadata": {},
   "outputs": [
    {
     "data": {
      "image/png": "[encoded data removed]",
      "text/plain": [
       "<Figure size 432x288 with 1 Axes>"
      ]
     },
     "metadata": {
      "needs_background": "light"
     },
     "output_type": "display_data"
    }
   ],
   "source": [
    "# generate the ROC curve\n",
    "from sklearn.metrics import roc_auc_score\n",
    "from sklearn.metrics import roc_curve\n",
    "nb_roc_auc = roc_auc_score(y_test, model.predict(X_test))\n",
    "fpr, tpr, thresholds = roc_curve(y_test, model.predict_proba(X_test)[:,1])\n",
    "plt.figure()\n",
    "plt.plot(fpr, tpr, label='Navie Bayes classification  (area = %0.2f)' % nb_roc_auc)\n",
    "plt.plot([0, 1], [0, 1],'r--')\n",
    "plt.xlim([0.0, 1.0])\n",
    "plt.ylim([0.0, 1.05])\n",
    "plt.xlabel('False Positive Rate')\n",
    "plt.ylabel('True Positive Rate')\n",
    "plt.title('Receiver operating characteristic')\n",
    "plt.legend(loc=\"lower right\")\n",
    "plt.savefig('nb_ROC')\n",
    "plt.show()"
   ]
  },
  {
   "cell_type": "code",
   "execution_count": 42,
   "id": "c91e5437",
   "metadata": {},
   "outputs": [],
   "source": [
    "y_predict = model.predict(X_test)"
   ]
  },
  {
   "cell_type": "code",
   "execution_count": 43,
   "id": "6525d97d",
   "metadata": {},
   "outputs": [
    {
     "name": "stdout",
     "output_type": "stream",
     "text": [
      "mean_absolute_error: 0.27718451109666636\n",
      "mean_squared_error: 0.27718451109666636\n",
      "rmse: 0.5264831536684401\n",
      "r2 score: -0.46189655515847594\n"
     ]
    }
   ],
   "source": [
    "## MSE 、 RMSE、 MAE、r2\n",
    "from math import sqrt\n",
    "from sklearn.metrics import mean_absolute_error\n",
    "from sklearn.metrics import mean_squared_error\n",
    "from sklearn.metrics import r2_score\n",
    "print(\"mean_absolute_error:\", mean_absolute_error(y_test, y_predict))\n",
    "print(\"mean_squared_error:\", mean_squared_error(y_test, y_predict))\n",
    "print(\"rmse:\", sqrt(mean_squared_error(y_test, y_predict)))\n",
    "print(\"r2 score:\", r2_score(y_test, y_predict))"
   ]
  },
  {
   "cell_type": "code",
   "execution_count": 44,
   "id": "e6f1a8e5",
   "metadata": {},
   "outputs": [
    {
     "data": {
      "text/plain": [
       "RandomForestClassifier(n_estimators=25)"
      ]
     },
     "execution_count": 44,
     "metadata": {},
     "output_type": "execute_result"
    }
   ],
   "source": [
    "## Random Forest\n",
    "from sklearn.ensemble import RandomForestClassifier\n",
    "random_forest = RandomForestClassifier(n_estimators=25)\n",
    "random_forest.fit(X_train, y_train)"
   ]
  },
  {
   "cell_type": "code",
   "execution_count": null,
   "id": "bc3b5e00",
   "metadata": {},
   "outputs": [],
   "source": [
    "## generate the confusion matrix\n",
    "cm = confusion_matrix(y, random_forest.predict(reduced_x))\n",
    "\n",
    "fig, ax = plt.subplots(figsize=(8, 8))\n",
    "ax.imshow(cm)\n",
    "ax.grid(False)\n",
    "ax.xaxis.set(ticks=(0, 1), ticklabels=('Predicted 0s', 'Predicted 1s'))\n",
    "ax.yaxis.set(ticks=(0, 1), ticklabels=('Actual 0s', 'Actual 1s'))\n",
    "ax.set_ylim(1.5, -0.5)\n",
    "for i in range(2):\n",
    "    for j in range(2):\n",
    "        ax.text(j, i, cm[i, j], ha='center', va='center', color='red')\n",
    "plt.show()"
   ]
  },
  {
   "cell_type": "code",
   "execution_count": 47,
   "id": "114aefa0",
   "metadata": {},
   "outputs": [
    {
     "data": {
      "text/plain": [
       "0.7925526975578048"
      ]
     },
     "execution_count": 47,
     "metadata": {},
     "output_type": "execute_result"
    }
   ],
   "source": [
    "# Find the accuracy of the model\n",
    "rf1 = random_forest.score(X_test, y_test)\n",
    "rf1"
   ]
  },
  {
   "cell_type": "code",
   "execution_count": 48,
   "id": "6ca93f42",
   "metadata": {},
   "outputs": [
    {
     "data": {
      "image/png": "[encoded data removed]",
      "text/plain": [
       "<Figure size 432x288 with 1 Axes>"
      ]
     },
     "metadata": {
      "needs_background": "light"
     },
     "output_type": "display_data"
    }
   ],
   "source": [
    "# generate the ROC curve\n",
    "from sklearn.metrics import roc_auc_score\n",
    "from sklearn.metrics import roc_curve\n",
    "random_forest_roc_auc = roc_auc_score(y_test, random_forest.predict(X_test))\n",
    "fpr, tpr, thresholds = roc_curve(y_test, random_forest.predict_proba(X_test)[:,1])\n",
    "plt.figure()\n",
    "plt.plot(fpr, tpr, label='Random Forest (area = %0.2f)' % random_forest_roc_auc)\n",
    "plt.plot([0, 1], [0, 1],'r--')\n",
    "plt.xlim([0.0, 1.0])\n",
    "plt.ylim([0.0, 1.05])\n",
    "plt.xlabel('False Positive Rate')\n",
    "plt.ylabel('True Positive Rate')\n",
    "plt.title('Receiver operating characteristic')\n",
    "plt.legend(loc=\"lower right\")\n",
    "plt.savefig('nb_ROC')\n",
    "plt.show()"
   ]
  },
  {
   "cell_type": "code",
   "execution_count": 49,
   "id": "c871dc2f",
   "metadata": {},
   "outputs": [],
   "source": [
    "y_predict = random_forest.predict(X_test)"
   ]
  },
  {
   "cell_type": "code",
   "execution_count": 50,
   "id": "3971c034",
   "metadata": {},
   "outputs": [
    {
     "name": "stdout",
     "output_type": "stream",
     "text": [
      "mean_absolute_error: 0.2074473024421952\n",
      "mean_squared_error: 0.2074473024421952\n",
      "rmse: 0.45546383219987424\n",
      "r2 score: -0.09409611531793471\n"
     ]
    }
   ],
   "source": [
    "## MSE 、 RMSE、 MAE、r2\n",
    "from math import sqrt\n",
    "from sklearn.metrics import mean_absolute_error\n",
    "from sklearn.metrics import mean_squared_error\n",
    "from sklearn.metrics import r2_score\n",
    "print(\"mean_absolute_error:\", mean_absolute_error(y_test, y_predict))\n",
    "print(\"mean_squared_error:\", mean_squared_error(y_test, y_predict))\n",
    "print(\"rmse:\", sqrt(mean_squared_error(y_test, y_predict)))\n",
    "print(\"r2 score:\", r2_score(y_test, y_predict))"
   ]
  },
  {
   "cell_type": "code",
   "execution_count": 113,
   "id": "df1981ce",
   "metadata": {},
   "outputs": [],
   "source": [
    "## KNN\n",
    "## choose the sqrt of sample size\n",
    "### But KNN has a bad performance on training big dataset\n",
    "\n",
    "from sklearn.neighbors import KNeighborsRegressor\n",
    "knn_model = KNeighborsRegressor(n_neighbors=300)"
   ]
  },
  {
   "cell_type": "code",
   "execution_count": 114,
   "id": "36e4a51c",
   "metadata": {},
   "outputs": [
    {
     "data": {
      "text/plain": [
       "KNeighborsRegressor(n_neighbors=300)"
      ]
     },
     "execution_count": 114,
     "metadata": {},
     "output_type": "execute_result"
    }
   ],
   "source": [
    "knn_model.fit(X_train, y_train)"
   ]
  },
  {
   "cell_type": "code",
   "execution_count": 115,
   "id": "ac330c20",
   "metadata": {},
   "outputs": [
    {
     "data": {
      "text/plain": [
       "0.16914438432963386"
      ]
     },
     "execution_count": 115,
     "metadata": {},
     "output_type": "execute_result"
    }
   ],
   "source": [
    "# Find the accuracy of the model\n",
    "knn1 = knn_model.score(X_test, y_test)\n",
    "knn1"
   ]
  },
  {
   "cell_type": "markdown",
   "id": "0af591e7",
   "metadata": {},
   "source": [
    "y_predict = knn_model.predict(X_test)"
   ]
  },
  {
   "cell_type": "code",
   "execution_count": 57,
   "id": "dfd2a217",
   "metadata": {},
   "outputs": [
    {
     "name": "stdout",
     "output_type": "stream",
     "text": [
      "mean_absolute_error: 0.2074473024421952\n",
      "mean_squared_error: 0.2074473024421952\n",
      "rmse: 0.45546383219987424\n",
      "r2 score: -0.09409611531793471\n"
     ]
    }
   ],
   "source": [
    "## MSE 、 RMSE、 MAE、r2\n",
    "from math import sqrt\n",
    "from sklearn.metrics import mean_absolute_error\n",
    "from sklearn.metrics import mean_squared_error\n",
    "from sklearn.metrics import r2_score\n",
    "print(\"mean_absolute_error:\", mean_absolute_error(y_test, y_predict))\n",
    "print(\"mean_squared_error:\", mean_squared_error(y_test, y_predict))\n",
    "print(\"rmse:\", sqrt(mean_squared_error(y_test, y_predict)))\n",
    "print(\"r2 score:\", r2_score(y_test, y_predict))"
   ]
  },
  {
   "cell_type": "code",
   "execution_count": 58,
   "id": "70d5194a",
   "metadata": {},
   "outputs": [
    {
     "data": {
      "text/plain": [
       "0        5.0\n",
       "1        5.0\n",
       "2        3.0\n",
       "3        5.0\n",
       "4        4.0\n",
       "        ... \n",
       "53840    3.0\n",
       "53841    5.0\n",
       "53842    5.0\n",
       "53843    5.0\n",
       "53844    5.0\n",
       "Name: Star, Length: 53845, dtype: float64"
      ]
     },
     "execution_count": 58,
     "metadata": {},
     "output_type": "execute_result"
    }
   ],
   "source": [
    "##---------------------------------------------------------##\n",
    "## Different approaches for testing\n",
    "## set the y variable as continuous variable\n",
    "from sklearn.preprocessing import LabelBinarizer\n",
    "y_variable = DF_Final[\"Star\"]\n",
    "y_variable"
   ]
  },
  {
   "cell_type": "code",
   "execution_count": 61,
   "id": "420ff003",
   "metadata": {},
   "outputs": [],
   "source": [
    "## set the training data and testing data\n",
    "X_train, X_test, y_train, y_test = train_test_split(reduced_x, y_variable, test_size=0.2)"
   ]
  },
  {
   "cell_type": "code",
   "execution_count": 62,
   "id": "783354b0",
   "metadata": {},
   "outputs": [],
   "source": [
    "# training a DescisionTreeClassifier\n",
    "from sklearn.tree import DecisionTreeClassifier\n",
    "dtree_model = DecisionTreeClassifier(max_depth = 2).fit(X_train, y_train)\n",
    "dtree_predictions = dtree_model.predict(X_test)"
   ]
  },
  {
   "cell_type": "code",
   "execution_count": 63,
   "id": "e488199b",
   "metadata": {},
   "outputs": [
    {
     "name": "stdout",
     "output_type": "stream",
     "text": [
      "mean_absolute_error: 0.8149317485374686\n",
      "mean_squared_error: 1.479245983842511\n",
      "rmse: 1.2162425678467725\n",
      "r2 score: -0.3151624394579313\n"
     ]
    }
   ],
   "source": [
    "## MSE 、 RMSE、 MAE、r2\n",
    "from math import sqrt\n",
    "from sklearn.metrics import mean_absolute_error\n",
    "from sklearn.metrics import mean_squared_error\n",
    "from sklearn.metrics import r2_score\n",
    "print(\"mean_absolute_error:\", mean_absolute_error(y_test, dtree_predictions))\n",
    "print(\"mean_squared_error:\", mean_squared_error(y_test, dtree_predictions))\n",
    "print(\"rmse:\", sqrt(mean_squared_error(y_test, dtree_predictions)))\n",
    "print(\"r2 score:\", r2_score(y_test, dtree_predictions))"
   ]
  },
  {
   "cell_type": "code",
   "execution_count": 64,
   "id": "61162da9",
   "metadata": {},
   "outputs": [
    {
     "data": {
      "text/plain": [
       "0.433002135760052"
      ]
     },
     "execution_count": 64,
     "metadata": {},
     "output_type": "execute_result"
    }
   ],
   "source": [
    "# Find the accuracy of the model\n",
    "dt2 = dtree_model.score(X_test, y_test)\n",
    "\n",
    "dt2"
   ]
  },
  {
   "cell_type": "code",
   "execution_count": 65,
   "id": "80f83568",
   "metadata": {},
   "outputs": [
    {
     "data": {
      "text/plain": [
       "0.4770173646578141"
      ]
     },
     "execution_count": 65,
     "metadata": {},
     "output_type": "execute_result"
    }
   ],
   "source": [
    "## training a KNN classifier\n",
    "from sklearn.neighbors import KNeighborsClassifier\n",
    "knn = KNeighborsClassifier(n_neighbors = 233).fit(X_train, y_train)\n",
    "  \n",
    "# accuracy on X_test\n",
    "knn2 = knn.score(X_test, y_test)\n",
    "\n",
    "knn2"
   ]
  },
  {
   "cell_type": "code",
   "execution_count": 66,
   "id": "6a1ba15a",
   "metadata": {},
   "outputs": [],
   "source": [
    "knn_prediction = knn.predict(X_test)"
   ]
  },
  {
   "cell_type": "code",
   "execution_count": 67,
   "id": "307a0286",
   "metadata": {},
   "outputs": [
    {
     "name": "stdout",
     "output_type": "stream",
     "text": [
      "mean_absolute_error: 0.7172439409415916\n",
      "mean_squared_error: 1.24319806853004\n",
      "rmse: 1.1149879230422364\n",
      "r2 score: -0.10529784930714281\n"
     ]
    }
   ],
   "source": [
    "## MSE 、 RMSE、 MAE、r2\n",
    "from math import sqrt\n",
    "from sklearn.metrics import mean_absolute_error\n",
    "from sklearn.metrics import mean_squared_error\n",
    "from sklearn.metrics import r2_score\n",
    "print(\"mean_absolute_error:\", mean_absolute_error(y_test, knn_prediction))\n",
    "print(\"mean_squared_error:\", mean_squared_error(y_test, knn_prediction))\n",
    "print(\"rmse:\", sqrt(mean_squared_error(y_test, knn_prediction)))\n",
    "print(\"r2 score:\", r2_score(y_test, knn_prediction))"
   ]
  },
  {
   "cell_type": "code",
   "execution_count": 68,
   "id": "66c7cb04",
   "metadata": {},
   "outputs": [
    {
     "name": "stdout",
     "output_type": "stream",
     "text": [
      "0.3696722072615842\n"
     ]
    }
   ],
   "source": [
    "# training a Naive Bayes classifier\n",
    "from sklearn.naive_bayes import GaussianNB\n",
    "gnb = GaussianNB().fit(X_train, y_train)\n",
    "gnb_predictions = gnb.predict(X_test)\n",
    "  \n",
    "# accuracy on X_test\n",
    "nb2 = gnb.score(X_test, y_test)\n",
    "\n",
    "print(nb2)"
   ]
  },
  {
   "cell_type": "code",
   "execution_count": 69,
   "id": "f32cf8bb",
   "metadata": {},
   "outputs": [
    {
     "name": "stdout",
     "output_type": "stream",
     "text": [
      "mean_absolute_error: 1.1937970099359272\n",
      "mean_squared_error: 2.9791066951434675\n",
      "rmse: 1.7260088919653536\n",
      "r2 score: -1.6486529430439014\n"
     ]
    }
   ],
   "source": [
    "## MSE 、 RMSE、 MAE、r2\n",
    "from math import sqrt\n",
    "from sklearn.metrics import mean_absolute_error\n",
    "from sklearn.metrics import mean_squared_error\n",
    "from sklearn.metrics import r2_score\n",
    "print(\"mean_absolute_error:\", mean_absolute_error(y_test, gnb_predictions))\n",
    "print(\"mean_squared_error:\", mean_squared_error(y_test, gnb_predictions))\n",
    "print(\"rmse:\", sqrt(mean_squared_error(y_test, gnb_predictions)))\n",
    "print(\"r2 score:\", r2_score(y_test, gnb_predictions))"
   ]
  },
  {
   "cell_type": "code",
   "execution_count": 70,
   "id": "e62694fd",
   "metadata": {},
   "outputs": [
    {
     "name": "stderr",
     "output_type": "stream",
     "text": [
      "/Users/liang/opt/anaconda3/lib/python3.9/site-packages/sklearn/svm/_base.py:1206: ConvergenceWarning: Liblinear failed to converge, increase the number of iterations.\n",
      "  warnings.warn(\n"
     ]
    }
   ],
   "source": [
    "# training a linear SVM classifier\n",
    "from sklearn.svm import SVC\n",
    "svm_model_linear = LinearSVC().fit(X_train, y_train)\n",
    "svm_predictions = svm_model_linear.predict(X_test)\n",
    "  \n",
    "# model accuracy for X_test  \n",
    "svm2 = svm_model_linear.score(X_test, y_test)\n",
    "svm2\n",
    "# creating a confusion matrix\n",
    "cm = confusion_matrix(y_test, svm_predictions)"
   ]
  },
  {
   "cell_type": "code",
   "execution_count": 82,
   "id": "c06d871d",
   "metadata": {},
   "outputs": [
    {
     "name": "stdout",
     "output_type": "stream",
     "text": [
      "mean_absolute_error: 0.6712786702572198\n",
      "mean_squared_error: 1.1431887826167704\n",
      "rmse: 1.0692000666932127\n",
      "r2 score: -0.01638197063192659\n"
     ]
    }
   ],
   "source": [
    "## MSE 、 RMSE、 MAE、r2\n",
    "from math import sqrt\n",
    "from sklearn.metrics import mean_absolute_error\n",
    "from sklearn.metrics import mean_squared_error\n",
    "from sklearn.metrics import r2_score\n",
    "print(\"mean_absolute_error:\", mean_absolute_error(y_test, svm_predictions))\n",
    "print(\"mean_squared_error:\", mean_squared_error(y_test, svm_predictions))\n",
    "print(\"rmse:\", sqrt(mean_squared_error(y_test, svm_predictions)))\n",
    "print(\"r2 score:\", r2_score(y_test, svm_predictions))"
   ]
  },
  {
   "cell_type": "code",
   "execution_count": null,
   "id": "a476ac42",
   "metadata": {},
   "outputs": [],
   "source": []
  }
 ],
 "metadata": {
  "kernelspec": {
   "display_name": "Python 3 (ipykernel)",
   "language": "python",
   "name": "python3"
  },
  "language_info": {
   "codemirror_mode": {
    "name": "ipython",
    "version": 3
   },
   "file_extension": ".py",
   "mimetype": "text/x-python",
   "name": "python",
   "nbconvert_exporter": "python",
   "pygments_lexer": "ipython3",
   "version": "3.9.12"
  },
  "toc": {
   "base_numbering": 1,
   "nav_menu": {},
   "number_sections": true,
   "sideBar": true,
   "skip_h1_title": false,
   "title_cell": "Table of Contents",
   "title_sidebar": "Contents",
   "toc_cell": false,
   "toc_position": {},
   "toc_section_display": true,
   "toc_window_display": false
  }
 },
 "nbformat": 4,
 "nbformat_minor": 5
}
